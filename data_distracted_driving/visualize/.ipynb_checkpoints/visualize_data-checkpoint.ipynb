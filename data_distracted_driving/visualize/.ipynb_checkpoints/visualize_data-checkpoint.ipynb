{
 "cells": [
  {
   "cell_type": "code",
   "execution_count": 4,
   "metadata": {},
   "outputs": [],
   "source": [
    "import  numpy  as  np\n",
    "import  pandas  as  pd\n",
    "from  ast  import  literal_eval\n",
    "import matplotlib.pyplot as plt\n",
    "import matplotlib.gridspec as gridspec\n",
    "import matplotlib.image as mpimg\n",
    "%matplotlib inline\n",
    "\n",
    "dfWaypoint = pd.read_csv(\"../data/lake_track_waypoints.csv\")\n",
    "dfNormalLogger = pd.read_csv(\"../data/normal_logger.csv\")\n",
    "dfDistractedLogger = pd.read_csv(\"../data/distracted_texting_logger.csv\")\n",
    "\n",
    "x_waypoint = []\n",
    "y_waypoint = []\n",
    "ool_angle = []\n",
    "for i in range(0, len(dfWaypoint)): \n",
    "    x_waypoint.append(dfWaypoint.loc[i, 'x'])\n",
    "    y_waypoint.append(dfWaypoint.loc[i, 'y'])\n",
    "\n",
    "x_goodPath = []\n",
    "y_goodPath = []\n",
    "x_badPath = []\n",
    "y_badPath = []\n",
    "dfNormalLogger = dfNormalLogger[:len(dfDistractedLogger)]\n",
    "for i in range(0, len(dfNormalLogger) - 1): \n",
    "    x_goodPath.append(dfNormalLogger.loc[i, 'x'])\n",
    "    y_goodPath.append(dfNormalLogger.loc[i, 'y'])\n",
    "    x_badPath.append(dfDistractedLogger.loc[i, 'x'])\n",
    "    y_badPath.append(dfDistractedLogger.loc[i, 'y'])"
   ]
  },
  {
   "cell_type": "code",
   "execution_count": null,
   "metadata": {},
   "outputs": [],
   "source": [
    "plt.rcParams[\"figure.figsize\"] = [10, 10]\n",
    "p1 = plt.plot(x_goodPath, y_goodPath, 'b', lw=1.0)\n",
    "p1 = plt.plot(x_badPath, y_badPath, 'r', lw=1.0)\n",
    "p3 = plt.plot(x_waypoint, y_waypoint, 'go', ms=5.0)\n",
    "\n",
    "plt.legend((p1[0],p2[0], p3[0]), ('Good driving path','Distracted driving path', 'Provided waypoint'))\n",
    "plt.show()"
   ]
  }
 ],
 "metadata": {
  "kernelspec": {
   "display_name": "Python 3",
   "language": "python",
   "name": "python3"
  },
  "language_info": {
   "codemirror_mode": {
    "name": "ipython",
    "version": 3
   },
   "file_extension": ".py",
   "mimetype": "text/x-python",
   "name": "python",
   "nbconvert_exporter": "python",
   "pygments_lexer": "ipython3",
   "version": "3.6.5"
  }
 },
 "nbformat": 4,
 "nbformat_minor": 2
}
